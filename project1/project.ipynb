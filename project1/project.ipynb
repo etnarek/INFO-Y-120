{
 "cells": [
  {
   "cell_type": "markdown",
   "metadata": {},
   "source": [
    "# Spam mail detection with machine learning\n",
    "\n",
    "_Wesley Boosko & Romain Fontaine_\n",
    "\n",
    "The dataset was taken from https://www.kaggle.com/c/adcg-ss14-challenge-02-spam-mails-detection\n",
    "\n",
    "The goal was to classify mails as spam and non spam with the help of a classifier and an anomaly detection algorithm."
   ]
  },
  {
   "cell_type": "markdown",
   "metadata": {},
   "source": [
    "## Imports"
   ]
  },
  {
   "cell_type": "code",
   "execution_count": 1,
   "metadata": {
    "collapsed": true
   },
   "outputs": [],
   "source": [
    "import os\n",
    "import re\n",
    "import glob\n",
    "import  email\n",
    "import numpy as np\n",
    "\n",
    "from sklearn.naive_bayes import MultinomialNB\n",
    "from sklearn.ensemble import IsolationForest\n",
    "from sklearn.feature_extraction.text import TfidfVectorizer, CountVectorizer\n",
    "from sklearn.model_selection import train_test_split\n",
    "from sklearn.svm import LinearSVC"
   ]
  },
  {
   "cell_type": "markdown",
   "metadata": {},
   "source": [
    "## Parse mails"
   ]
  },
  {
   "cell_type": "code",
   "execution_count": 2,
   "metadata": {
    "collapsed": true
   },
   "outputs": [],
   "source": [
    "EXTRACT_ID = re.compile(r\".*_(\\d+)\\.eml\")\n",
    "EXTRACT_LABEL = re.compile(r\"\\d+,(0|1)\")"
   ]
  },
  {
   "cell_type": "code",
   "execution_count": 3,
   "metadata": {
    "collapsed": true
   },
   "outputs": [],
   "source": [
    "def get_mails(folder):\n",
    "    res = []\n",
    "    for mail in glob.glob(folder + \"/*.eml\"):\n",
    "        mail_id = EXTRACT_ID.match(mail).groups()[0]\n",
    "        res.append((int(mail_id), read_mail(mail)))\n",
    "        \n",
    "    return res\n",
    "\n",
    "def read_mail(filename):\n",
    "    with open(filename, \"rb\") as f:\n",
    "        mail = email.message_from_binary_file(f)\n",
    "    return mail\n",
    "\n",
    "def get_labels(filename):\n",
    "    with open(filename) as f:\n",
    "        labels = []\n",
    "        for l in f:\n",
    "            m = EXTRACT_LABEL.match(l)\n",
    "            if m:\n",
    "                labels.append(m.groups()[0])\n",
    "    labels = [int(l) for l in labels]\n",
    "    return labels"
   ]
  },
  {
   "cell_type": "code",
   "execution_count": 4,
   "metadata": {
    "collapsed": true
   },
   "outputs": [],
   "source": [
    "def save(filename, predictions):\n",
    "    with open(filename, \"w\") as f:\n",
    "        f.write(\"Id,Prediction\\n\")\n",
    "        for i,l in enumerate(predictions):\n",
    "            f.write(\"{},{}\\n\".format(i+1, l))"
   ]
  },
  {
   "cell_type": "code",
   "execution_count": 5,
   "metadata": {
    "collapsed": true
   },
   "outputs": [],
   "source": [
    "TR_mails = get_mails(\"TR\")\n",
    "TR_mails = sorted(TR_mails, key=lambda x:x[0])\n",
    "TR_labels = get_labels(\"spam-mail.tr.label\")\n",
    "TT_mails = get_mails(\"TT\")\n",
    "TT_mails = sorted(TT_mails, key=lambda x:x[0])"
   ]
  },
  {
   "cell_type": "code",
   "execution_count": 6,
   "metadata": {
    "collapsed": true
   },
   "outputs": [],
   "source": [
    "def get_payload(message):\n",
    "    try:\n",
    "        return message.as_string()\n",
    "    except:\n",
    "        payload = message.get_payload()\n",
    "        if type(payload) == type(list()) :\n",
    "            payload = payload[0]\n",
    "        if type(payload) == type(message):\n",
    "            payload = payload.get_payload()\n",
    "        if type(payload) != type('') :\n",
    "            payload = str(payload)\n",
    "\n",
    "        return payload"
   ]
  },
  {
   "cell_type": "code",
   "execution_count": 7,
   "metadata": {
    "collapsed": true
   },
   "outputs": [],
   "source": [
    "TR_mails_payload = [get_payload(m) for (_,m) in TR_mails]\n",
    "TR_ids = [i for (i,_) in TR_mails]\n",
    "TT_mails_payload = [get_payload(m) for (_,m) in TT_mails]\n",
    "TT_ids = [i for (i,_) in TT_mails]"
   ]
  },
  {
   "cell_type": "code",
   "execution_count": 8,
   "metadata": {},
   "outputs": [],
   "source": [
    "def score(prediction, labels):\n",
    "    accuracy = (prediction == labels).sum()/len(labels)\n",
    "    TP = np.logical_and(prediction, labels).sum()\n",
    "    TN = (np.logical_not(prediction) & np.logical_not(labels)).sum()\n",
    "    FP = np.logical_and(prediction, np.logical_not(labels)).sum()\n",
    "    FN = np.logical_and(np.logical_not(prediction), labels).sum()\n",
    "    return accuracy, (TP, TN, FP, FN)\n",
    "\n",
    "def pprint(accuracy, score):\n",
    "    print(\"Accuracy : {:.4f}\".format(accuracy))\n",
    "    print(\"\\n True positif : {}\".format(score[0]))\n",
    "    print(\" True negatif : {}\".format(score[1]))\n",
    "    print(\"False positif : {}\".format(score[2]))\n",
    "    print(\"False negatif : {}\".format(score[3]))"
   ]
  },
  {
   "cell_type": "markdown",
   "metadata": {},
   "source": [
    "## Features extraction"
   ]
  },
  {
   "cell_type": "code",
   "execution_count": 9,
   "metadata": {
    "collapsed": true
   },
   "outputs": [],
   "source": [
    "vect = CountVectorizer(stop_words='english', strip_accents=\"unicode\")\n",
    "vect = vect.fit(TR_mails_payload + TT_mails_payload)"
   ]
  },
  {
   "cell_type": "code",
   "execution_count": 10,
   "metadata": {
    "collapsed": true
   },
   "outputs": [],
   "source": [
    "TR_count = vect.transform(TR_mails_payload)\n",
    "TT_count = vect.transform(TT_mails_payload)"
   ]
  },
  {
   "cell_type": "code",
   "execution_count": 11,
   "metadata": {
    "collapsed": true
   },
   "outputs": [],
   "source": [
    "vect_tfidf = TfidfVectorizer(stop_words='english', strip_accents=\"unicode\")\n",
    "vect_tfidf = vect_tfidf.fit(TR_mails_payload + TT_mails_payload)"
   ]
  },
  {
   "cell_type": "code",
   "execution_count": 12,
   "metadata": {
    "collapsed": true
   },
   "outputs": [],
   "source": [
    "TR_tfidf = vect_tfidf.transform(TR_mails_payload)\n",
    "TT_tfidf = vect_tfidf.transform(TT_mails_payload)"
   ]
  },
  {
   "cell_type": "markdown",
   "metadata": {
    "collapsed": true
   },
   "source": [
    "## Classification\n",
    "### Naive Bayes"
   ]
  },
  {
   "cell_type": "code",
   "execution_count": 13,
   "metadata": {},
   "outputs": [
    {
     "name": "stdout",
     "output_type": "stream",
     "text": [
      "Accuracy : 0.9536\n",
      "\n",
      " True positif : 421\n",
      " True negatif : 175\n",
      "False positif : 21\n",
      "False negatif : 8\n"
     ]
    }
   ],
   "source": [
    "X_train, X_test, Y_train, Y_test = train_test_split(TR_count, TR_labels)\n",
    "model = MultinomialNB()\n",
    "model.fit(X_train, Y_train)\n",
    "predictions = model.predict(X_test)\n",
    "pprint(*score(predictions, Y_test))"
   ]
  },
  {
   "cell_type": "code",
   "execution_count": 14,
   "metadata": {},
   "outputs": [
    {
     "name": "stdout",
     "output_type": "stream",
     "text": [
      "Accuracy : 0.8688\n",
      "\n",
      " True positif : 416\n",
      " True negatif : 127\n",
      "False positif : 74\n",
      "False negatif : 8\n"
     ]
    }
   ],
   "source": [
    "X_train, X_test, Y_train, Y_test = train_test_split(TR_tfidf, TR_labels)\n",
    "model = MultinomialNB()\n",
    "model.fit(X_train, Y_train)\n",
    "predictions = model.predict(X_test)\n",
    "pprint(*score(predictions, Y_test))"
   ]
  },
  {
   "cell_type": "code",
   "execution_count": 15,
   "metadata": {},
   "outputs": [
    {
     "data": {
      "text/plain": [
       "array([1, 1, 1, ..., 0, 0, 0])"
      ]
     },
     "execution_count": 15,
     "metadata": {},
     "output_type": "execute_result"
    }
   ],
   "source": [
    "model = MultinomialNB()\n",
    "model.fit(TR_count, TR_labels)\n",
    "\n",
    "predictions = model.predict(TT_count)\n",
    "save(\"NaiveBayes.res\", predictions)\n",
    "predictions"
   ]
  },
  {
   "cell_type": "markdown",
   "metadata": {},
   "source": [
    "### Linear SVC"
   ]
  },
  {
   "cell_type": "code",
   "execution_count": 16,
   "metadata": {},
   "outputs": [
    {
     "name": "stdout",
     "output_type": "stream",
     "text": [
      "Accuracy : 0.9808\n",
      "\n",
      " True positif : 431\n",
      " True negatif : 182\n",
      "False positif : 5\n",
      "False negatif : 7\n"
     ]
    }
   ],
   "source": [
    "X_train, X_test, Y_train, Y_test = train_test_split(TR_count, TR_labels)\n",
    "model = LinearSVC()\n",
    "model.fit(X_train, Y_train)\n",
    "predictions = model.predict(X_test)\n",
    "pprint(*score(predictions, Y_test))"
   ]
  },
  {
   "cell_type": "code",
   "execution_count": 17,
   "metadata": {},
   "outputs": [
    {
     "name": "stdout",
     "output_type": "stream",
     "text": [
      "Accuracy : 0.9888\n",
      "\n",
      " True positif : 398\n",
      " True negatif : 220\n",
      "False positif : 3\n",
      "False negatif : 4\n"
     ]
    }
   ],
   "source": [
    "X_train, X_test, Y_train, Y_test = train_test_split(TR_tfidf, TR_labels)\n",
    "model = LinearSVC()\n",
    "model.fit(X_train, Y_train)\n",
    "predictions = model.predict(X_test)\n",
    "pprint(*score(predictions, Y_test))"
   ]
  },
  {
   "cell_type": "markdown",
   "metadata": {},
   "source": [
    "Kaggle score : 0.95785"
   ]
  },
  {
   "cell_type": "code",
   "execution_count": 18,
   "metadata": {},
   "outputs": [
    {
     "data": {
      "text/plain": [
       "array([1, 1, 1, ..., 0, 0, 0])"
      ]
     },
     "execution_count": 18,
     "metadata": {},
     "output_type": "execute_result"
    }
   ],
   "source": [
    "model = LinearSVC()\n",
    "model.fit(TR_tfidf, TR_labels)\n",
    "\n",
    "predictions = model.predict(TT_tfidf)\n",
    "save(\"LinearSVC.res\", predictions)\n",
    "predictions"
   ]
  },
  {
   "cell_type": "markdown",
   "metadata": {},
   "source": [
    "Kaggle score : 0.98522"
   ]
  },
  {
   "cell_type": "markdown",
   "metadata": {},
   "source": [
    "## Anomaly detection with IsolationForest"
   ]
  },
  {
   "cell_type": "code",
   "execution_count": 19,
   "metadata": {},
   "outputs": [
    {
     "name": "stdout",
     "output_type": "stream",
     "text": [
      "Accuracy : 0.6560\n",
      "\n",
      " True positif : 394\n",
      " True negatif : 16\n",
      "False positif : 195\n",
      "False negatif : 20\n"
     ]
    }
   ],
   "source": [
    "X_train, X_test, Y_train, Y_test = train_test_split(TR_tfidf, TR_labels)\n",
    "model = IsolationForest()\n",
    "model.fit(X_train, Y_train)\n",
    "predictions = model.predict(X_test).clip(min=0)\n",
    "pprint(*score(predictions, Y_test))"
   ]
  },
  {
   "cell_type": "code",
   "execution_count": 20,
   "metadata": {},
   "outputs": [
    {
     "name": "stdout",
     "output_type": "stream",
     "text": [
      "Accuracy : 0.7040\n",
      "\n",
      " True positif : 409\n",
      " True negatif : 31\n",
      "False positif : 167\n",
      "False negatif : 18\n"
     ]
    }
   ],
   "source": [
    "X_train, X_test, Y_train, Y_test = train_test_split(TR_count, TR_labels)\n",
    "model = IsolationForest()\n",
    "model.fit(X_train, Y_train)\n",
    "predictions = model.predict(X_test).clip(min=0)\n",
    "pprint(*score(predictions, Y_test))"
   ]
  },
  {
   "cell_type": "code",
   "execution_count": 21,
   "metadata": {},
   "outputs": [
    {
     "data": {
      "text/plain": [
       "array([1, 1, 1, ..., 0, 1, 1])"
      ]
     },
     "execution_count": 21,
     "metadata": {},
     "output_type": "execute_result"
    }
   ],
   "source": [
    "model = IsolationForest()\n",
    "model.fit(TR_tfidf, TR_labels)\n",
    "\n",
    "predictions = model.predict(TT_tfidf)\n",
    "predictions = predictions.clip(min=0)\n",
    "save(\"IsolationForest.res\", predictions)\n",
    "predictions"
   ]
  },
  {
   "cell_type": "markdown",
   "metadata": {},
   "source": [
    "kaggle score : 0.65900"
   ]
  }
 ],
 "metadata": {
  "kernelspec": {
   "display_name": "Python 3",
   "language": "python",
   "name": "python3"
  },
  "language_info": {
   "codemirror_mode": {
    "name": "ipython",
    "version": 3
   },
   "file_extension": ".py",
   "mimetype": "text/x-python",
   "name": "python",
   "nbconvert_exporter": "python",
   "pygments_lexer": "ipython3",
   "version": "3.6.2"
  }
 },
 "nbformat": 4,
 "nbformat_minor": 2
}
