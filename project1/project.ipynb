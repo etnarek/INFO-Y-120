{
 "cells": [
  {
   "cell_type": "markdown",
   "metadata": {},
   "source": [
    "## Imports"
   ]
  },
  {
   "cell_type": "code",
   "execution_count": 1,
   "metadata": {
    "collapsed": true
   },
   "outputs": [],
   "source": [
    "import  email\n",
    "import numpy as np\n",
    "from collections import Counter\n",
    "from sklearn.naive_bayes import MultinomialNB, GaussianNB, BernoulliNB\n",
    "from sklearn.svm import SVC, NuSVC, LinearSVC\n",
    "from sklearn.metrics import confusion_matrix\n",
    "from sklearn.feature_extraction.text import TfidfVectorizer, CountVectorizer\n",
    "import os\n",
    "import re\n",
    "import glob"
   ]
  },
  {
   "cell_type": "markdown",
   "metadata": {},
   "source": [
    "## Parse mails"
   ]
  },
  {
   "cell_type": "code",
   "execution_count": 2,
   "metadata": {
    "collapsed": true
   },
   "outputs": [],
   "source": [
    "EXTRACT_ID = re.compile(r\".*_(\\d+)\\.eml\")\n",
    "EXTRACT_LABEL = re.compile(r\"\\d+,(0|1)\")"
   ]
  },
  {
   "cell_type": "code",
   "execution_count": 3,
   "metadata": {
    "collapsed": true
   },
   "outputs": [],
   "source": [
    "def get_mails(folder):\n",
    "    res = []\n",
    "    for mail in glob.glob(folder + \"/*.eml\"):\n",
    "        mail_id = EXTRACT_ID.match(mail).groups()[0]\n",
    "        res.append((int(mail_id), read_mail(mail)))\n",
    "        \n",
    "    return res\n",
    "\n",
    "def read_mail(filename):\n",
    "    with open(filename, \"rb\") as f:\n",
    "        mail = email.message_from_binary_file(f)\n",
    "    return mail\n",
    "\n",
    "def get_labels(filename):\n",
    "    with open(filename) as f:\n",
    "        labels = []\n",
    "        for l in f:\n",
    "            m = EXTRACT_LABEL.match(l)\n",
    "            if m:\n",
    "                labels.append(m.groups()[0])\n",
    "    labels = [int(l) for l in labels]\n",
    "    return labels"
   ]
  },
  {
   "cell_type": "code",
   "execution_count": 4,
   "metadata": {
    "collapsed": true
   },
   "outputs": [],
   "source": [
    "m = read_mail(\"TR/TRAIN_2125.eml\")"
   ]
  },
  {
   "cell_type": "code",
   "execution_count": 5,
   "metadata": {
    "collapsed": true
   },
   "outputs": [],
   "source": [
    "TR_mails = get_mails(\"TR\")\n",
    "TR_mails = sorted(TR_mails, key=lambda x:x[0])\n",
    "TR_labels = get_labels(\"spam-mail.tr.label\")\n",
    "TT_mails = get_mails(\"TT\")\n",
    "TT_mails = sorted(TT_mails, key=lambda x:x[0])"
   ]
  },
  {
   "cell_type": "code",
   "execution_count": 6,
   "metadata": {},
   "outputs": [],
   "source": [
    "def get_payload(message):\n",
    "    try:\n",
    "        return message.as_string()\n",
    "    except:\n",
    "        payload = message.get_payload()\n",
    "        if type(payload) == type(list()) :\n",
    "            payload = payload[0]\n",
    "        if type(payload) == type(message):\n",
    "            payload = payload.get_payload()\n",
    "        if type(payload) != type('') :\n",
    "            payload = str(payload)\n",
    "\n",
    "        return payload"
   ]
  },
  {
   "cell_type": "code",
   "execution_count": null,
   "metadata": {
    "collapsed": true
   },
   "outputs": [],
   "source": [
    "print(m.as_string"
   ]
  },
  {
   "cell_type": "code",
   "execution_count": 7,
   "metadata": {},
   "outputs": [],
   "source": [
    "TR_mails_payload = [get_payload(m) for (_,m) in TR_mails]\n",
    "TR_ids = [i for (i,_) in TR_mails]\n",
    "TT_mails_payload = [get_payload(m) for (_,m) in TT_mails]\n",
    "TT_ids = [i for (i,_) in TT_mails]"
   ]
  },
  {
   "cell_type": "markdown",
   "metadata": {},
   "source": [
    "## TFIDF"
   ]
  },
  {
   "cell_type": "code",
   "execution_count": 8,
   "metadata": {},
   "outputs": [],
   "source": [
    "vect = CountVectorizer(stop_words='english', strip_accents=\"unicode\")\n",
    "vect = vect.fit(TR_mails_payload + TT_mails_payload)"
   ]
  },
  {
   "cell_type": "code",
   "execution_count": 9,
   "metadata": {
    "collapsed": true
   },
   "outputs": [],
   "source": [
    "TR_tfidf = vect.transform(TR_mails_payload)\n",
    "TT_tfidf = vect.transform(TT_mails_payload)"
   ]
  },
  {
   "cell_type": "markdown",
   "metadata": {
    "collapsed": true
   },
   "source": [
    "## Creta models"
   ]
  },
  {
   "cell_type": "code",
   "execution_count": 10,
   "metadata": {},
   "outputs": [
    {
     "data": {
      "text/plain": [
       "MultinomialNB(alpha=1.0, class_prior=None, fit_prior=True)"
      ]
     },
     "execution_count": 10,
     "metadata": {},
     "output_type": "execute_result"
    }
   ],
   "source": [
    "model = MultinomialNB()\n",
    "model.fit(TR_tfidf, TR_labels)"
   ]
  },
  {
   "cell_type": "code",
   "execution_count": 11,
   "metadata": {},
   "outputs": [
    {
     "data": {
      "text/plain": [
       "array([1, 1, 1, ..., 0, 0, 0])"
      ]
     },
     "execution_count": 11,
     "metadata": {},
     "output_type": "execute_result"
    }
   ],
   "source": [
    "predictions = model.predict(TT_tfidf)\n",
    "predictions"
   ]
  },
  {
   "cell_type": "code",
   "execution_count": 12,
   "metadata": {
    "collapsed": true
   },
   "outputs": [],
   "source": [
    "def save(filename):\n",
    "    with open(filename, \"w\") as f:\n",
    "        f.write(\"Id,Prediction\\n\")\n",
    "        for i,l in enumerate(predictions):\n",
    "            f.write(\"{},{}\\n\".format(i+1, l))"
   ]
  },
  {
   "cell_type": "code",
   "execution_count": 13,
   "metadata": {},
   "outputs": [],
   "source": [
    "save(\"res.labes\")"
   ]
  }
 ],
 "metadata": {
  "kernelspec": {
   "display_name": "Python 3",
   "language": "python",
   "name": "python3"
  },
  "language_info": {
   "codemirror_mode": {
    "name": "ipython",
    "version": 3
   },
   "file_extension": ".py",
   "mimetype": "text/x-python",
   "name": "python",
   "nbconvert_exporter": "python",
   "pygments_lexer": "ipython3",
   "version": "3.6.2"
  }
 },
 "nbformat": 4,
 "nbformat_minor": 2
}
